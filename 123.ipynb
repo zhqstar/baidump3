!pip install -q https://github.com/camenduru/stable-diffusion-webui-colab/releases/download/0.0.15/xformers-0.0.15+e163309.d20230103-cp38-cp38-linux_x86_64.whl

!git clone https://github.com/camenduru/stable-diffusion-webui
!git clone https://github.com/deforum-art/deforum-for-automatic1111-webui /content/stable-diffusion-webui/extensions/deforum-for-automatic1111-webui
!git clone https://github.com/yfszzx/stable-diffusion-webui-images-browser /content/stable-diffusion-webui/extensions/stable-diffusion-webui-images-browser
!git clone https://github.com/camenduru/stable-diffusion-webui-huggingface /content/stable-diffusion-webui/extensions/stable-diffusion-webui-huggingface
%cd /content/stable-diffusion-webui

!wget https://huggingface.co/852wa/8528-diffusion/resolve/main/8528d-final.ckpt -O /content/stable-diffusion-webui/models/Stable-diffusion/8528d-final.ckpt

!python launch.py --share --xformers
